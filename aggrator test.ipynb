{
 "cells": [
  {
   "cell_type": "code",
   "execution_count": null,
   "metadata": {},
   "outputs": [],
   "source": [
    "from PSUTester import *\n",
    "p=PSUTester('fastTest.yaml')\n",
    "#Test flow\n",
    "p.test_flow()\n",
    "\n"
   ]
  },
  {
   "cell_type": "code",
   "execution_count": null,
   "metadata": {},
   "outputs": [],
   "source": [
    "settings=p.config['DUT']\n",
    "p.input_configuration(settings['input'])\n",
    "sequence_checks=[]\n",
    "for i,settings in settings['output'].items():\n",
    "    #p.run_unit_test(settings)\n",
    "    if settings['sequence_check']==True:\n",
    "        sequence_checks.append(settings['channel'])\n",
    "print(sequence_checks)\n",
    "\n",
    "p.oscilloscope.write(\"ACQuire:STATE RUN\")\n",
    "p.oscilloscope.write(\"ACQuire:STOPAfter RUNSTOP\")\n",
    "p.power_supply.off()\n",
    "p.load.off()\n",
    "\n",
    "#Switch on channels\n",
    "channel_in=p.config['DUT']['input']['channel']\n",
    "in_scale=p.oscilloscope.nearest_v_scale(p.config['DUT']['input']['voltage'])\n",
    "p.oscilloscope.channel_on(channel_in)\n",
    "p.oscilloscope.set_y_scale(channel_in,in_scale)\n",
    "for i in sequence_checks:\n",
    "    p.oscilloscope.channel_on(i)\n",
    "    p.oscilloscope.set_y_scale(i,in_scale)"
   ]
  },
  {
   "cell_type": "code",
   "execution_count": null,
   "metadata": {},
   "outputs": [],
   "source": [
    "\n",
    "p.oscilloscope.set_t_scale(0.01)\n",
    "p.oscilloscope.write(\"HORIZONTAL:MAIN:DELAY:TIME 2e-2\") \n",
    "#Config oscilloscope to single mode rise trigger\n",
    "p.oscilloscope.write(f\"TRIGGER:A:EDGE:SOURCE CH{channel_in}\")\n",
    "p.oscilloscope.write(f\"TRIGGER:A:LEVel {p.config['DUT']['input']['voltage']*0.1}\")\n",
    "p.oscilloscope.write(\"TRIGGER:A:EDGE:SLOPE RISE\") \n",
    "p.oscilloscope.write(\"ACQuire:STOPAfter SEQUENCE\")\n",
    "p.oscilloscope.write(\"ACQuire:STATE RUN\")\n",
    "time.sleep(5)\n",
    "#Power on sequence\n",
    "p.power_supply.on()\n",
    "time.sleep(2)\n",
    "p.oscilloscope.get_waveform_all()\n",
    "#p.power_supply.off()\n",
    "\n"
   ]
  },
  {
   "cell_type": "code",
   "execution_count": null,
   "metadata": {},
   "outputs": [],
   "source": [
    "p.oscilloscope.write(f\"TRIGGER:A:LEVel {p.config['DUT']['input']['voltage']*0.5}\")\n",
    "p.oscilloscope.write(\"TRIGGER:A:EDGE:SLOPE FALL\") \n",
    "p.oscilloscope.write(\"ACQuire:STOPAfter SEQUENCE\")\n",
    "p.oscilloscope.write(\"ACQuire:STATE RUN\")\n"
   ]
  },
  {
   "cell_type": "code",
   "execution_count": null,
   "metadata": {},
   "outputs": [],
   "source": [
    "time.sleep(2)\n",
    "p.power_supply.off()\n",
    "time.sleep(2)\n",
    "p.oscilloscope.get_waveform_all()\n",
    "time.sleep(2)\n",
    "p.oscilloscope.write(\"ACQuire:STATE RUN\")\n",
    "p.oscilloscope.write(\"ACQuire:STOPAfter RUNSTOP\")"
   ]
  },
  {
   "cell_type": "code",
   "execution_count": null,
   "metadata": {},
   "outputs": [],
   "source": [
    "p.oscilloscope.get_frequency(2)"
   ]
  },
  {
   "cell_type": "code",
   "execution_count": null,
   "metadata": {},
   "outputs": [],
   "source": []
  },
  {
   "cell_type": "code",
   "execution_count": null,
   "metadata": {},
   "outputs": [],
   "source": [
    "def nearest_scale(value):\n",
    "    scales = [1, 2, 4]\n",
    "    powers = [-9, -8, -7, -6, -5, -4, -3,-2,-1,0]  # 10的n次方\n",
    "\n",
    "    nearest_diff = float('inf')\n",
    "    nearest_scale = None\n",
    "\n",
    "    for scale in scales:\n",
    "        for power in powers:\n",
    "            scale_value = scale * 10 ** power\n",
    "            diff = abs(value - scale_value)\n",
    "            if diff < nearest_diff:\n",
    "                nearest_diff = diff\n",
    "                nearest_scale = scale_value\n",
    "\n",
    "    return nearest_scale\n",
    "\n",
    "# 测试示例\n",
    "value = 1/1\n",
    "nearest = nearest_scale(value)\n",
    "print(f\"Value: {value}, Nearest Scale: {nearest}\")\n"
   ]
  },
  {
   "cell_type": "code",
   "execution_count": null,
   "metadata": {},
   "outputs": [],
   "source": [
    "new_s=nearest_scale(1/p.oscilloscope.get_measurement(4))\n",
    "print(new_s)\n",
    "p.oscilloscope.set_t_scale(new_s)"
   ]
  },
  {
   "cell_type": "code",
   "execution_count": null,
   "metadata": {},
   "outputs": [],
   "source": []
  },
  {
   "cell_type": "code",
   "execution_count": null,
   "metadata": {},
   "outputs": [],
   "source": []
  }
 ],
 "metadata": {
  "kernelspec": {
   "display_name": "Python 3",
   "language": "python",
   "name": "python3"
  },
  "language_info": {
   "codemirror_mode": {
    "name": "ipython",
    "version": 3
   },
   "file_extension": ".py",
   "mimetype": "text/x-python",
   "name": "python",
   "nbconvert_exporter": "python",
   "pygments_lexer": "ipython3",
   "version": "3.9.7"
  }
 },
 "nbformat": 4,
 "nbformat_minor": 2
}
